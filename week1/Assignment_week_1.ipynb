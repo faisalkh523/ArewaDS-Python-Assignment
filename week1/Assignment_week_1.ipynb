{
 "cells": [
  {
   "cell_type": "markdown",
   "metadata": {},
   "source": [
    "# Week 1 Assignment\n",
    "\n",
    "## 1. simple Variable Assignment\n",
    "\n",
    "####  **Task**: create a variable x and assign the value 10 to it. print the value of x."
   ]
  },
  {
   "cell_type": "code",
   "execution_count": 22,
   "metadata": {},
   "outputs": [
    {
     "name": "stdout",
     "output_type": "stream",
     "text": [
      "10\n"
     ]
    }
   ],
   "source": [
    "# Amswer to 1\n",
    "\n",
    "# creating the variable x\n",
    "x = 10\n",
    "\n",
    "# printing the variable result\n",
    "print(x)"
   ]
  },
  {
   "cell_type": "markdown",
   "metadata": {},
   "source": [
    "# 2. Assigning Different Data Types\n",
    "**Task:** Create variables of different data types:\n",
    "- Integer: `age = 25`\n",
    "- Float: `height = 5.9`\n",
    "- String: `name = \"John\"`\n",
    "- Boolean: `is_active = True`\n",
    "\n",
    "Print all the variables.\n"
   ]
  },
  {
   "cell_type": "code",
   "execution_count": 21,
   "metadata": {},
   "outputs": [
    {
     "name": "stdout",
     "output_type": "stream",
     "text": [
      "25\n",
      "5.9\n",
      "john\n",
      "True\n"
     ]
    }
   ],
   "source": [
    "# Answer to question 2\n",
    "\n",
    "# the different data type assigned\n",
    "age = 25\n",
    "height = 5.9\n",
    "name = 'john'\n",
    "is_active = True\n",
    "\n",
    "# using f string so that each result appear separately\n",
    "data_type = f\"{age}\\n{height}\\n{name}\\n{is_active}\"\n",
    "\n",
    "# Printing the Result\n",
    "print(data_type)"
   ]
  },
  {
   "cell_type": "markdown",
   "metadata": {},
   "source": [
    "## 3. Simple Addition\n",
    "**Task:** Create two variables, `a` and `b`, and assign them integer values. Calculate their sum and print the result"
   ]
  },
  {
   "cell_type": "code",
   "execution_count": 20,
   "metadata": {},
   "outputs": [
    {
     "name": "stdout",
     "output_type": "stream",
     "text": [
      "90\n"
     ]
    }
   ],
   "source": [
    "# Answer to Qusetion 3\n",
    "\n",
    "# creating the two variables\n",
    "a = 30\n",
    "b = 3\n",
    "\n",
    "# calculating the variable sum\n",
    "sum = a * b \n",
    "\n",
    "# printing the sum result\n",
    "print (sum)\n"
   ]
  },
  {
   "cell_type": "markdown",
   "metadata": {},
   "source": [
    "## 4. String Concatenation\n",
    "**Task:** Create two string variables, `first_name = \"Alice\"` and `last_name = \"Wonderland\"`. Concatenate them to create a full name and print the result."
   ]
  },
  {
   "cell_type": "code",
   "execution_count": 23,
   "metadata": {},
   "outputs": [
    {
     "name": "stdout",
     "output_type": "stream",
     "text": [
      "Alice Wonderland\n"
     ]
    }
   ],
   "source": [
    "# Answer to Question 4\n",
    "\n",
    "# creating the two string variables\n",
    "first_name = \"Alice\"\n",
    "last_name = \"Wonderland\"\n",
    "\n",
    "# concatenating them\n",
    "result = first_name+\" \"+last_name\n",
    "\n",
    "# printing their result\n",
    "print(result)"
   ]
  },
  {
   "cell_type": "markdown",
   "metadata": {},
   "source": [
    "## 5. Variable Type Check\n",
    "**Task:** Create a variable `x = \"Hello\"`. Check and print the type of `x` using the `type()` function."
   ]
  },
  {
   "cell_type": "code",
   "execution_count": null,
   "metadata": {},
   "outputs": [
    {
     "data": {
      "text/plain": [
       "str"
      ]
     },
     "execution_count": 17,
     "metadata": {},
     "output_type": "execute_result"
    }
   ],
   "source": [
    "# Answer to Question 5\n",
    "\n",
    "# creating the variable\n",
    "x = \"Hello\"\n",
    "\n",
    "# checking the data type\n",
    "type(x)"
   ]
  },
  {
   "cell_type": "markdown",
   "metadata": {},
   "source": [
    "## 6. Swap Two Variables\n",
    "**Task:** Create two variables `a = 10` and `b = 5`. Swap their values without using a temporary variable. Print the new values of `a` and `b`."
   ]
  },
  {
   "cell_type": "code",
   "execution_count": 25,
   "metadata": {},
   "outputs": [
    {
     "name": "stdout",
     "output_type": "stream",
     "text": [
      "a = 5\n",
      "b = 10\n"
     ]
    }
   ],
   "source": [
    "# Answer to Question 6\n",
    "a =10\n",
    "b = 5\n",
    "\n",
    "# Swapping values\n",
    "a, b = b, a\n",
    "\n",
    "# printing the swap values\n",
    "print(\"a =\", a)\n",
    "print(\"b =\", b)\n"
   ]
  },
  {
   "cell_type": "markdown",
   "metadata": {},
   "source": [
    "## 7. Arithmetic Operations\n",
    "**Task:** Create two variables `x = 15` and `y = 4`. Perform addition, subtraction, multiplication, division, and modulus operations. Print the results.\n"
   ]
  },
  {
   "cell_type": "code",
   "execution_count": null,
   "metadata": {},
   "outputs": [
    {
     "name": "stdout",
     "output_type": "stream",
     "text": [
      "Addition: x + y = 19\n",
      "Subtraction: x - y = 11\n",
      "Multiplication: x * y = 60\n",
      "Division: x / y = 3.75\n",
      "Modulus: x % y = 3\n"
     ]
    }
   ],
   "source": [
    "# Answer to Question 7\n",
    "\n",
    "# Creating the two variables\n",
    "x = 15\n",
    "y = 4\n",
    "\n",
    "# Addition\n",
    "addition = x + y \n",
    "\n",
    "# Subtraction\n",
    "subtraction = x - y \n",
    "\n",
    "# Multiplication\n",
    "multiplication = x * y\n",
    "\n",
    "# Division\n",
    "division = x / y \n",
    "\n",
    "# Modulus\n",
    "modulus = x % y\n",
    "\n",
    "# Printing the results\n",
    "\n",
    "print(\"Addition: x + y =\", addition)\n",
    "print(\"Subtraction: x - y =\", subtraction)\n",
    "print(\"Multiplication: x * y =\", multiplication)\n",
    "print(\"Division: x / y =\", division)\n",
    "print(\"Modulus: x % y =\", modulus)"
   ]
  },
  {
   "cell_type": "markdown",
   "metadata": {},
   "source": [
    "## 8. Multiple Variable Assignment\n",
    "**Task:** Assign values to multiple variables in a single line:\n",
    "- `x = 1`, `y = 2`, `z = 3`\n"
   ]
  },
  {
   "cell_type": "code",
   "execution_count": 43,
   "metadata": {},
   "outputs": [
    {
     "name": "stdout",
     "output_type": "stream",
     "text": [
      "value of the three result= 1 2 3\n"
     ]
    }
   ],
   "source": [
    "# Answer to Question 8\n",
    "\n",
    "# Assigning the multiple variables in a single line\n",
    "x, y, z = 1, 2, 3\n",
    "\n",
    "# printing the value of all the three result\n",
    "print(\"value of the three result=\", x,y,z)"
   ]
  },
  {
   "cell_type": "markdown",
   "metadata": {},
   "source": [
    "## 9. Updating Variable Values\n",
    "**Task:** Create a variable `counter = 10`. Increase its value by 5 using an assignment operation (`+=`). Then decrease its value by 3 (`-=`). Print the final value of `counter`.\n"
   ]
  },
  {
   "cell_type": "code",
   "execution_count": 42,
   "metadata": {},
   "outputs": [
    {
     "name": "stdout",
     "output_type": "stream",
     "text": [
      "final value of the counter= 12\n"
     ]
    }
   ],
   "source": [
    "# Answer to Qiestion 9\n",
    "\n",
    "# Creating the variable\n",
    "counter = 10\n",
    "\n",
    "# incrementing by 5\n",
    "counter += 5\n",
    "\n",
    "# Decrementing the rseult by 3\n",
    "counter -= 3\n",
    "\n",
    "# printing The final value of the counter \n",
    "print (\"final value of the counter=\", counter)"
   ]
  },
  {
   "cell_type": "markdown",
   "metadata": {},
   "source": [
    "## 10. Variable Re-Assignment\n",
    "**Task:** Create a variable `x = 100`. Reassign its value to `x = 50`. Print the new value of `x`."
   ]
  },
  {
   "cell_type": "code",
   "execution_count": 46,
   "metadata": {},
   "outputs": [
    {
     "name": "stdout",
     "output_type": "stream",
     "text": [
      "the new value =  50\n"
     ]
    }
   ],
   "source": [
    "# Answer to Question 10\n",
    "\n",
    "# Creating the variable\n",
    "x = 100\n",
    "\n",
    "# Re-Assigning the value\n",
    "x = 50\n",
    "\n",
    "# Printing the new value\n",
    "print(\"the new value = \", x)"
   ]
  },
  {
   "cell_type": "markdown",
   "metadata": {},
   "source": [
    "## 11. User Input and Variable Assignment\n",
    "**Task:** Use the `input()` function to assign the user's name to a variable and print a greeting message with the user's name."
   ]
  },
  {
   "cell_type": "code",
   "execution_count": null,
   "metadata": {},
   "outputs": [
    {
     "name": "stdout",
     "output_type": "stream",
     "text": [
      "Good Day Faisal Khalid Hassan\n"
     ]
    }
   ],
   "source": [
    "# Answer to Question 11\n",
    "\n",
    "# Assignig user's name using input()\n",
    "user_name = input(\"enter user's name: \")\n",
    "\n",
    "# Declaring the greeting message\n",
    "greeting_message = \"Good Day\"\n",
    "\n",
    "# Printing the greeting message with the user name\n",
    "print(greeting_message +\" \"+ user_name)"
   ]
  },
  {
   "cell_type": "markdown",
   "metadata": {},
   "source": [
    " 12. String to Integer Conversion\n",
    "**Task:** Create a string variable `num_str = \"42\"`. Convert it to an integer and print the result."
   ]
  },
  {
   "cell_type": "code",
   "execution_count": null,
   "metadata": {},
   "outputs": [
    {
     "name": "stdout",
     "output_type": "stream",
     "text": [
      "42\n"
     ]
    }
   ],
   "source": [
    "# The string variable\n",
    "num_str = \"42\"\n",
    "\n",
    "# Converting the string to integer\n",
    "num_int = int(num_str)\n",
    "\n",
    "# Printing the integer result\n",
    "print(num_int)"
   ]
  }
 ],
 "metadata": {
  "kernelspec": {
   "display_name": "base",
   "language": "python",
   "name": "python3"
  },
  "language_info": {
   "codemirror_mode": {
    "name": "ipython",
    "version": 3
   },
   "file_extension": ".py",
   "mimetype": "text/x-python",
   "name": "python",
   "nbconvert_exporter": "python",
   "pygments_lexer": "ipython3",
   "version": "3.12.7"
  }
 },
 "nbformat": 4,
 "nbformat_minor": 2
}
