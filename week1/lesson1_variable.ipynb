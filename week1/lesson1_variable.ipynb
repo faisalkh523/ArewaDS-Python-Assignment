{
 "cells": [
  {
   "cell_type": "markdown",
   "metadata": {},
   "source": [
    "# Week 1\n",
    "\n",
    "## 1. simple Variable\n",
    "\n",
    "####  **Task**: create a variable x and assign the value 10 to it. print the value of x."
   ]
  },
  {
   "cell_type": "code",
   "execution_count": 22,
   "metadata": {},
   "outputs": [
    {
     "name": "stdout",
     "output_type": "stream",
     "text": [
      "10\n"
     ]
    }
   ],
   "source": [
    "# Amswer to 1\n",
    "\n",
    "# creating the variable x\n",
    "x = 10\n",
    "\n",
    "# printing the variable result\n",
    "print(x)"
   ]
  },
  {
   "cell_type": "markdown",
   "metadata": {},
   "source": [
    "# 2. Assigning Different Data Types\n",
    "**Task:** Create variables of different data types:\n",
    "- Integer: `age = 25`\n",
    "- Float: `height = 5.9`\n",
    "- String: `name = \"John\"`\n",
    "- Boolean: `is_active = True`\n",
    "\n",
    "Print all the variables.\n"
   ]
  },
  {
   "cell_type": "code",
   "execution_count": 21,
   "metadata": {},
   "outputs": [
    {
     "name": "stdout",
     "output_type": "stream",
     "text": [
      "25\n",
      "5.9\n",
      "john\n",
      "True\n"
     ]
    }
   ],
   "source": [
    "# Answer to question 2\n",
    "\n",
    "# the different data type assigned\n",
    "age = 25\n",
    "height = 5.9\n",
    "name = 'john'\n",
    "is_active = True\n",
    "\n",
    "# using f string so that each result appear separately\n",
    "data_type = f\"{age}\\n{height}\\n{name}\\n{is_active}\"\n",
    "\n",
    "# Printing the Result\n",
    "print(data_type)"
   ]
  },
  {
   "cell_type": "markdown",
   "metadata": {},
   "source": [
    "## 3. Simple Addition\n",
    "**Task:** Create two variables, `a` and `b`, and assign them integer values. Calculate their sum and print the result"
   ]
  },
  {
   "cell_type": "code",
   "execution_count": 20,
   "metadata": {},
   "outputs": [
    {
     "name": "stdout",
     "output_type": "stream",
     "text": [
      "90\n"
     ]
    }
   ],
   "source": [
    "# Answer to Qusetion 3\n",
    "\n",
    "# creating the two variables\n",
    "a = 30\n",
    "b = 3\n",
    "\n",
    "# calculating the variable sum\n",
    "sum = a * b \n",
    "\n",
    "# printing the sum result\n",
    "print (sum)\n"
   ]
  },
  {
   "cell_type": "markdown",
   "metadata": {},
   "source": [
    "## 4. String Concatenation\n",
    "**Task:** Create two string variables, `first_name = \"Alice\"` and `last_name = \"Wonderland\"`. Concatenate them to create a full name and print the result."
   ]
  },
  {
   "cell_type": "code",
   "execution_count": 23,
   "metadata": {},
   "outputs": [
    {
     "name": "stdout",
     "output_type": "stream",
     "text": [
      "Alice Wonderland\n"
     ]
    }
   ],
   "source": [
    "# Answer to Question 4\n",
    "\n",
    "# creating the two string variables\n",
    "first_name = \"Alice\"\n",
    "last_name = \"Wonderland\"\n",
    "\n",
    "# concatenating them\n",
    "result = first_name+\" \"+last_name\n",
    "\n",
    "# printing their result\n",
    "print(result)"
   ]
  },
  {
   "cell_type": "markdown",
   "metadata": {},
   "source": [
    "## 5. Variable Type Check\n",
    "**Task:** Create a variable `x = \"Hello\"`. Check and print the type of `x` using the `type()` function."
   ]
  },
  {
   "cell_type": "code",
   "execution_count": null,
   "metadata": {},
   "outputs": [
    {
     "data": {
      "text/plain": [
       "str"
      ]
     },
     "execution_count": 17,
     "metadata": {},
     "output_type": "execute_result"
    }
   ],
   "source": [
    "# Answer to Question 5\n",
    "\n",
    "# creating the variable\n",
    "x = \"Hello\"\n",
    "\n",
    "# checking the data type\n",
    "type(x)"
   ]
  },
  {
   "cell_type": "markdown",
   "metadata": {},
   "source": [
    "## 6. Swap Two Variables\n",
    "**Task:** Create two variables `a = 10` and `b = 5`. Swap their values without using a temporary variable. Print the new values of `a` and `b`."
   ]
  },
  {
   "cell_type": "code",
   "execution_count": 25,
   "metadata": {},
   "outputs": [
    {
     "name": "stdout",
     "output_type": "stream",
     "text": [
      "a = 5\n",
      "b = 10\n"
     ]
    }
   ],
   "source": [
    "# Answer to Question 6\n",
    "a =10\n",
    "b = 5\n",
    "\n",
    "# Swapping values\n",
    "a, b = b, a\n",
    "\n",
    "# printing the swap values\n",
    "print(\"a =\", a)\n",
    "print(\"b =\", b)\n"
   ]
  },
  {
   "cell_type": "markdown",
   "metadata": {},
   "source": [
    "## 7. Arithmetic Operations\n",
    "**Task:** Create two variables `x = 15` and `y = 4`. Perform addition, subtraction, multiplication, division, and modulus operations. Print the results.\n"
   ]
  },
  {
   "cell_type": "code",
   "execution_count": null,
   "metadata": {},
   "outputs": [
    {
     "name": "stdout",
     "output_type": "stream",
     "text": [
      "Addition: x + y = 19\n",
      "Subtraction: x - y = 11\n",
      "Multiplication: x * y = 60\n",
      "Division: x / y = 3.75\n",
      "Modulus: x % y = 3\n"
     ]
    }
   ],
   "source": [
    "# Answer to Question 7\n",
    "\n",
    "# Creating the two variables\n",
    "x = 15\n",
    "y = 4\n",
    "\n",
    "# Addition\n",
    "addition = x + y \n",
    "\n",
    "# Subtraction\n",
    "subtraction = x - y \n",
    "\n",
    "# Multiplication\n",
    "multiplication = x * y\n",
    "\n",
    "# Division\n",
    "division = x / y \n",
    "\n",
    "# Modulus\n",
    "modulus = x % y\n",
    "\n",
    "# Printing the results\n",
    "\n",
    "print(\"Addition: x + y =\", addition)\n",
    "print(\"Subtraction: x - y =\", subtraction)\n",
    "print(\"Multiplication: x * y =\", multiplication)\n",
    "print(\"Division: x / y =\", division)\n",
    "print(\"Modulus: x % y =\", modulus)"
   ]
  },
  {
   "cell_type": "markdown",
   "metadata": {},
   "source": [
    "## 8. Multiple Variable Assignment\n",
    "**Task:** Assign values to multiple variables in a single line:\n",
    "- `x = 1`, `y = 2`, `z = 3`\n"
   ]
  },
  {
   "cell_type": "code",
   "execution_count": 43,
   "metadata": {},
   "outputs": [
    {
     "name": "stdout",
     "output_type": "stream",
     "text": [
      "value of the three result= 1 2 3\n"
     ]
    }
   ],
   "source": [
    "# Answer to Question 8\n",
    "\n",
    "# Assigning the multiple variables in a single line\n",
    "x, y, z = 1, 2, 3\n",
    "\n",
    "# printing the value of all the three result\n",
    "print(\"value of the three result=\", x,y,z)"
   ]
  },
  {
   "cell_type": "markdown",
   "metadata": {},
   "source": [
    "## 9. Updating Variable Values\n",
    "**Task:** Create a variable `counter = 10`. Increase its value by 5 using an assignment operation (`+=`). Then decrease its value by 3 (`-=`). Print the final value of `counter`.\n"
   ]
  },
  {
   "cell_type": "code",
   "execution_count": 42,
   "metadata": {},
   "outputs": [
    {
     "name": "stdout",
     "output_type": "stream",
     "text": [
      "final value of the counter= 12\n"
     ]
    }
   ],
   "source": [
    "# Answer to Qiestion 9\n",
    "\n",
    "# Creating the variable\n",
    "counter = 10\n",
    "\n",
    "# incrementing by 5\n",
    "counter += 5\n",
    "\n",
    "# Decrementing the rseult by 3\n",
    "counter -= 3\n",
    "\n",
    "# printing The final value of the counter \n",
    "print (\"final value of the counter=\", counter)"
   ]
  },
  {
   "cell_type": "markdown",
   "metadata": {},
   "source": [
    "## 10. Variable Re-Assignment\n",
    "**Task:** Create a variable `x = 100`. Reassign its value to `x = 50`. Print the new value of `x`."
   ]
  },
  {
   "cell_type": "code",
   "execution_count": 46,
   "metadata": {},
   "outputs": [
    {
     "name": "stdout",
     "output_type": "stream",
     "text": [
      "the new value =  50\n"
     ]
    }
   ],
   "source": [
    "# Answer to Question 10\n",
    "\n",
    "# Creating the variable\n",
    "x = 100\n",
    "\n",
    "# Re-Assigning the value\n",
    "x = 50\n",
    "\n",
    "# Printing the new value\n",
    "print(\"the new value = \", x)"
   ]
  },
  {
   "cell_type": "markdown",
   "metadata": {},
   "source": [
    "## 11. User Input and Variable Assignment\n",
    "**Task:** Use the `input()` function to assign the user's name to a variable and print a greeting message with the user's name."
   ]
  },
  {
   "cell_type": "code",
   "execution_count": null,
   "metadata": {},
   "outputs": [
    {
     "name": "stdout",
     "output_type": "stream",
     "text": [
      "Good Day Faisal Khalid Hassan\n"
     ]
    }
   ],
   "source": [
    "# Answer to Question 11\n",
    "\n",
    "# Assignig user's name using input()\n",
    "user_name = input(\"enter user's name: \")\n",
    "\n",
    "# Declaring the greeting message\n",
    "greeting_message = \"Good Day\"\n",
    "\n",
    "# Printing the greeting message with the user name\n",
    "print(greeting_message +\" \"+ user_name)"
   ]
  },
  {
   "cell_type": "markdown",
   "metadata": {},
   "source": [
    " 12. String to Integer Conversion\n",
    "**Task:** Create a string variable `num_str = \"42\"`. Convert it to an integer and print the result."
   ]
  },
  {
   "cell_type": "code",
   "execution_count": null,
   "metadata": {},
   "outputs": [
    {
     "name": "stdout",
     "output_type": "stream",
     "text": [
      "42\n"
     ]
    }
   ],
   "source": [
    "# The string variable\n",
    "num_str = \"42\"\n",
    "\n",
    "# Converting the string to integer\n",
    "num_int = int(num_str)\n",
    "\n",
    "# Printing the integer result\n",
    "print(num_int)"
   ]
  },
  {
   "cell_type": "markdown",
   "metadata": {},
   "source": [
    "## 13. Integer to String Conversion\n",
    "**Task:** Create an integer variable `num = 100`. Convert it to a string and print the result."
   ]
  },
  {
   "cell_type": "code",
   "execution_count": null,
   "metadata": {},
   "outputs": [
    {
     "name": "stdout",
     "output_type": "stream",
     "text": [
      "100\n"
     ]
    }
   ],
   "source": [
    "# Answer to question 13\n",
    "\n",
    "# creating an integer variable\n",
    "num = 100\n",
    "\n",
    "# converting it to string\n",
    "num_str = str(num)\n",
    "\n",
    "# printing the result\n",
    "print(num_str)"
   ]
  },
  {
   "cell_type": "markdown",
   "metadata": {},
   "source": [
    "14. Working with Lists\n",
    "**Task:** Create a list `fruits = [\"apple\", \"banana\", \"cherry\"]`. Assign the first element of the list to a variable `favorite_fruit` and print it."
   ]
  },
  {
   "cell_type": "code",
   "execution_count": null,
   "metadata": {},
   "outputs": [
    {
     "name": "stdout",
     "output_type": "stream",
     "text": [
      "apple\n"
     ]
    }
   ],
   "source": [
    "# Answer to Question 14\n",
    "fruits = [\"apple\", \"banana\", \"cherry\"]\n",
    "\n",
    "# Assigning the first element\n",
    "favorite_fruit = fruits[0]\n",
    "\n",
    "# printing the result\n",
    "print(favorite_fruit)"
   ]
  },
  {
   "cell_type": "markdown",
   "metadata": {},
   "source": [
    "## 15. String Length\n",
    "**Task:** Create a string variable `message = \"Hello, Python!\"`. Assign the length of the string to a variable `length` and print it."
   ]
  },
  {
   "cell_type": "code",
   "execution_count": null,
   "metadata": {},
   "outputs": [
    {
     "name": "stdout",
     "output_type": "stream",
     "text": [
      "14\n"
     ]
    }
   ],
   "source": [
    "# Answer to Question 15\n",
    "\n",
    "# Creating the string Variable\n",
    "message = \"Hello, Python!\"\n",
    "\n",
    "# Assigning the length to the string\n",
    "length = len(message)\n",
    "\n",
    "# printing the result\n",
    "print(length)\n"
   ]
  },
  {
   "cell_type": "markdown",
   "metadata": {},
   "source": [
    "## 16. Floating-Point Arithmetic\n",
    "**Task:** Create two floating-point variables `a = 3.14` and `b = 2.71`. Add them together, subtract them, and multiply them. Print the results."
   ]
  },
  {
   "cell_type": "code",
   "execution_count": 8,
   "metadata": {},
   "outputs": [
    {
     "name": "stdout",
     "output_type": "stream",
     "text": [
      "adding, a+b = 5.85\n",
      "subtracting, a-b = 0.43000000000000016\n",
      "multipying, a*b = 8.5094\n"
     ]
    }
   ],
   "source": [
    "# Answer to Question 16\n",
    "\n",
    "# creating the two floating-point variables\n",
    "a = 3.14\n",
    "b = 2.71\n",
    "\n",
    "# Adding them\n",
    "addition = a+b\n",
    "\n",
    "# Subtracting them\n",
    "subtraction = a-b\n",
    "\n",
    "# Multiplying them\n",
    "multiplication = a*b\n",
    "\n",
    "# Printing the result\n",
    "print(\"adding, a+b =\", addition )\n",
    "print(\"subtracting, a-b =\", subtraction)\n",
    "print(\"multipying, a*b =\", multiplication)"
   ]
  },
  {
   "cell_type": "markdown",
   "metadata": {},
   "source": [
    "## 17. Combining Strings with Variables\n",
    "**Task:** Create variables `first_name = \"John\"` and `last_name = \"Doe\"`. Use string concatenation to print `Hello, John Doe!`."
   ]
  },
  {
   "cell_type": "code",
   "execution_count": null,
   "metadata": {},
   "outputs": [
    {
     "name": "stdout",
     "output_type": "stream",
     "text": [
      "Hello, john Doe!\n"
     ]
    }
   ],
   "source": [
    "# Answer to Question 17\n",
    "\n",
    "# creating the variables\n",
    "first_name = \"john\"\n",
    "last_name = \"Doe!\"\n",
    "\n",
    "# string concatenation\n",
    "concatenating = first_name + \" \" + last_name\n",
    "\n",
    "# printing\n",
    "print(\"Hello,\", concatenating)"
   ]
  },
  {
   "cell_type": "markdown",
   "metadata": {},
   "source": [
    "## 18. String Formatting with f-strings\n",
    "**Task:** Create variables `age = 25` and `name = \"Alice\"`. Use an f-string to print: `\"My name is Alice and I am 25 years old.\"`"
   ]
  },
  {
   "cell_type": "code",
   "execution_count": null,
   "metadata": {},
   "outputs": [
    {
     "name": "stdout",
     "output_type": "stream",
     "text": [
      "My name is Alice and I am 25 years old.\n"
     ]
    }
   ],
   "source": [
    "# Answer to Question 18\n",
    "\n",
    "# creating the variables\n",
    "age = 25\n",
    "name = \"Alice\"\n",
    "\n",
    "# # Using f-string to print \n",
    "result = f\"My name is {name} and I am {age} years old.\"\n",
    "print(result)"
   ]
  },
  {
   "cell_type": "markdown",
   "metadata": {},
   "source": [
    "## 19. Constants Convention\n",
    "**Task:** Define a constant `PI = 3.14159`. Print the value of `PI` and explain why constants are written in uppercase."
   ]
  },
  {
   "cell_type": "code",
   "execution_count": 21,
   "metadata": {},
   "outputs": [
    {
     "name": "stdout",
     "output_type": "stream",
     "text": [
      "3.14159\n"
     ]
    }
   ],
   "source": [
    "# Answer to Question 19\n",
    "\n",
    "# Defining the constant\n",
    "PI = 3.14159\n",
    "\n",
    "# printing the value of PI\n",
    "print(PI)"
   ]
  },
  {
   "cell_type": "markdown",
   "metadata": {},
   "source": [
    "### explain why constant are written in uppercase\n",
    "#### Answer\n",
    "constant are written in uppercase as a convention to differentiate them from variables, making them easily identifiable within a code"
   ]
  },
  {
   "cell_type": "markdown",
   "metadata": {},
   "source": [
    "## 20. Working with Dictionaries\n",
    "**Task:** Create a dictionary `person = {\"name\": \"Alice\", \"age\": 25}`. Assign the value of `\"age\"` from the dictionary to a variable `age_value` and print it."
   ]
  },
  {
   "cell_type": "code",
   "execution_count": null,
   "metadata": {},
   "outputs": [
    {
     "name": "stdout",
     "output_type": "stream",
     "text": [
      "25\n"
     ]
    }
   ],
   "source": [
    "# Answer to Question 20\n",
    "\n",
    "# creating a dictionary\n",
    "person = {\"name\": \"Alice\", \"age\": 25}\n",
    "\n",
    "# assigning value of \"age\" from dictionary to a variable age_value\n",
    "age_value =person[\"age\"]\n",
    "\n",
    "# printing the result\n",
    "print(age_value)"
   ]
  },
  {
   "cell_type": "markdown",
   "metadata": {},
   "source": [
    "## 21. Using Global and Local Variables\n",
    "**Task:** Create a global variable `x = 10`. In a function, assign a new value to `x` (locally) and print both the local and global values of `x`."
   ]
  },
  {
   "cell_type": "code",
   "execution_count": 27,
   "metadata": {},
   "outputs": [
    {
     "name": "stdout",
     "output_type": "stream",
     "text": [
      "local x= 5\n",
      "global x= 5\n"
     ]
    }
   ],
   "source": [
    "# Answer to Question 21\n",
    "\n",
    "# creating a global variable\n",
    "x = 10\n",
    "\n",
    "def modify_x() : \n",
    "    global x\n",
    "x = 5\n",
    "print(\"local x=\", x)\n",
    "\n",
    "\n",
    "# Printing the global x\n",
    "print(\"global x=\", x)"
   ]
  },
  {
   "cell_type": "markdown",
   "metadata": {},
   "source": [
    "## 22. Swapping Values with Pythonic Method\n",
    "**Task:** Swap the values of two variables `x = 5` and `y = 10` using Python's multiple assignment feature. Print the new values of `x` and `y`."
   ]
  },
  {
   "cell_type": "code",
   "execution_count": 30,
   "metadata": {},
   "outputs": [
    {
     "name": "stdout",
     "output_type": "stream",
     "text": [
      "new value of x = 10\n",
      "new value of y = 5\n"
     ]
    }
   ],
   "source": [
    "# Answer to Question 22\n",
    "\n",
    "# the two variables\n",
    "x = 5\n",
    "y = 10\n",
    "\n",
    "# python multiple assignment features\n",
    "y, x = x, y\n",
    "\n",
    "# printing the new value of x and y\n",
    "print(\"new value of x =\", x)\n",
    "print(\"new value of y =\", y)"
   ]
  },
  {
   "cell_type": "markdown",
   "metadata": {},
   "source": [
    "## 23. Boolean Expressions\n",
    "**Task:** Create two boolean variables `is_sunny = True` and `is_raining = False`. Print a message based on the result of `is_sunny` and `is_raining`.\n"
   ]
  },
  {
   "cell_type": "code",
   "execution_count": 34,
   "metadata": {},
   "outputs": [
    {
     "name": "stdout",
     "output_type": "stream",
     "text": [
      "is_sunny and is_raining\n"
     ]
    }
   ],
   "source": [
    "# Answer to Question 23\n",
    "\n",
    "# the two boolean variable\n",
    "is_sunny = True\n",
    "is_raining = False\n",
    "\n",
    "# writing the condition using if statement\n",
    "if is_sunny and not  is_raining :\n",
    "\n",
    "# printing the message\n",
    "    print(\"is_sunny and is_raining\")"
   ]
  },
  {
   "cell_type": "markdown",
   "metadata": {},
   "source": [
    "## 24. Typecasting Multiple Variables\n",
    "**Task:** Create a variable `x = \"100\"`, `y = \"50\"`, and `z = \"30\"`. Convert all of them to integers and print their sum.\n"
   ]
  },
  {
   "cell_type": "code",
   "execution_count": null,
   "metadata": {},
   "outputs": [
    {
     "name": "stdout",
     "output_type": "stream",
     "text": [
      "x in integer = 100\n",
      "y in integer = 50\n",
      "y in integer = 30\n",
      "sum 0f the integers = 180\n"
     ]
    }
   ],
   "source": [
    "# Answer to Question 24\n",
    "\n",
    "# creating the variables\n",
    "x = \"100\"    \n",
    "y = \"50\"\n",
    "z = \"30\"\n",
    "# converting into integers\n",
    "x = int(\"100\")\n",
    "y = int(\"50\")\n",
    "z = int(\"30\")\n",
    "\n",
    "# printing their results\n",
    "print(\"x in integer =\", x)\n",
    "print(\"y in integer =\", y)\n",
    "print(\"y in integer =\", z)\n",
    "\n",
    "# sum of the integers\n",
    "sum = x+y+z\n",
    "\n",
    "# printing the sum result\n",
    "print(\"sum 0f the integers =\", sum)"
   ]
  },
  {
   "cell_type": "markdown",
   "metadata": {},
   "source": [
    "## 25. Modifying String Values\n",
    "**Task:** Create a string variable `sentence = \"Python is awesome\"`. Replace the word \"awesome\" with \"cool\" and print the modified string."
   ]
  },
  {
   "cell_type": "code",
   "execution_count": null,
   "metadata": {},
   "outputs": [
    {
     "name": "stdout",
     "output_type": "stream",
     "text": [
      "Python is cool\n"
     ]
    }
   ],
   "source": [
    "# Answer to Question 25\n",
    "\n",
    "# the string variable\n",
    "sentence = \"Python is awesome\"\n",
    "\n",
    "# Replacing the word\n",
    "modified_string = sentence.replace(\"awesome\", \"cool\")\n",
    "\n",
    "print(modified_string)"
   ]
  },
  {
   "cell_type": "markdown",
   "metadata": {},
   "source": [
    "## 26. Complex Variable Assignment\n",
    "**Task:** Create a variable `person = {\"name\": \"Bob\", \"age\": 30}`. Assign the value of `\"name\"` to a variable `person_name` and `\"age\"` to `person_age`. Print both variables.\n"
   ]
  },
  {
   "cell_type": "code",
   "execution_count": 46,
   "metadata": {},
   "outputs": [
    {
     "name": "stdout",
     "output_type": "stream",
     "text": [
      "person_name = Bob\n",
      "person_age = 30\n"
     ]
    }
   ],
   "source": [
    "# Answer to Question \n",
    "\n",
    "# Creating the variable\n",
    "person = {\"name\": \"Bob\", \"age\": 30}\n",
    "\n",
    "# Assigning value to the variable\n",
    "person_name = person[\"name\"]\n",
    "person_age = person[\"age\"]\n",
    "\n",
    "# printing both the variables\n",
    "print (\"person_name =\", person_name)\n",
    "print(\"person_age =\", person_age)\n"
   ]
  },
  {
   "cell_type": "markdown",
   "metadata": {},
   "source": [
    "## 27. Using Variables in Functions\n",
    "**Task:** Create a function `greet(name)` that takes a string argument `name` and prints `\"Hello, <name>!\"`. Call the function with your name."
   ]
  },
  {
   "cell_type": "code",
   "execution_count": 65,
   "metadata": {},
   "outputs": [
    {
     "name": "stdout",
     "output_type": "stream",
     "text": [
      "Hello, Faisal!\n"
     ]
    }
   ],
   "source": [
    "# Answer to Question 27\n",
    "\n",
    "# creating the function\n",
    "def greet(name):\n",
    "\n",
    "    print(f\"Hello, {name}!\")\n",
    "\n",
    "# calling the function with my name\n",
    "greet(\"Faisal\")\n",
    "\n"
   ]
  },
  {
   "cell_type": "markdown",
   "metadata": {},
   "source": [
    "## 28. Counting Occurrences\n",
    "**Task:** Create a string `text = \"apple apple banana apple\"`. Count how many times the word `\"apple\"` appears in the string and store it in a variable `apple_count`. Print the count.\n"
   ]
  },
  {
   "cell_type": "code",
   "execution_count": null,
   "metadata": {},
   "outputs": [
    {
     "name": "stdout",
     "output_type": "stream",
     "text": [
      "number of times the word 'apple' appear = 3\n"
     ]
    }
   ],
   "source": [
    "# Answer to Question 28\n",
    "\n",
    "# creating the string\n",
    "text = \"apple apple banana apple\"\n",
    "\n",
    "# using the count method\n",
    "apple_count = text.count(\"apple\")\n",
    "\n",
    "# printing the count result\n",
    "print(\"number of times the word 'apple' appear =\", apple_count)\n"
   ]
  },
  {
   "cell_type": "markdown",
   "metadata": {},
   "source": [
    "## 29. Working with Multiple Variables in a Function\n",
    "**Task:** Write a function `add_numbers(a, b)` that takes two numbers and returns their sum. Call the function with the arguments `a = 5` and `b = 7` and store the result in a variable `result`. Print `result`.\n"
   ]
  },
  {
   "cell_type": "code",
   "execution_count": null,
   "metadata": {},
   "outputs": [
    {
     "name": "stdout",
     "output_type": "stream",
     "text": [
      "the result = 12\n"
     ]
    }
   ],
   "source": [
    "# Answer to Question 29\n",
    "\n",
    "# writing the function\n",
    "def add_numbers(a, b):\n",
    "    return  a+b\n",
    "\n",
    "# calling the function\n",
    "result = add_numbers(5, 7)\n",
    "\n",
    "print(\"the result =\", result)\n"
   ]
  },
  {
   "cell_type": "markdown",
   "metadata": {},
   "source": [
    "## 30. Using Variables in Lists and Loops\n",
    "**Task:** Create a list `numbers = [1, 2, 3, 4, 5]`. Use a `for` loop to multiply each number by 2, and store the results in a new list `doubled_numbers`. Print the `doubled_numbers` list."
   ]
  },
  {
   "cell_type": "code",
   "execution_count": 88,
   "metadata": {},
   "outputs": [
    {
     "name": "stdout",
     "output_type": "stream",
     "text": [
      "doubled_numbers list = [2, 4, 6, 8, 10]\n"
     ]
    }
   ],
   "source": [
    "# Answer to Question 30\n",
    "\n",
    "# Creating the list\n",
    "numbers = [1, 2, 3, 4, 5]\n",
    "\n",
    "# new list\n",
    "doubled_numbers = []\n",
    "\n",
    "# using for loop\n",
    "for number in numbers:\n",
    "    doubled_numbers.append(number*2)\n",
    "\n",
    "\n",
    "# printing result that multiply numbers by 2\n",
    "print(\"doubled_numbers list =\", doubled_numbers)"
   ]
  }
 ],
 "metadata": {
  "kernelspec": {
   "display_name": "base",
   "language": "python",
   "name": "python3"
  },
  "language_info": {
   "codemirror_mode": {
    "name": "ipython",
    "version": 3
   },
   "file_extension": ".py",
   "mimetype": "text/x-python",
   "name": "python",
   "nbconvert_exporter": "python",
   "pygments_lexer": "ipython3",
   "version": "3.12.7"
  }
 },
 "nbformat": 4,
 "nbformat_minor": 2
}
