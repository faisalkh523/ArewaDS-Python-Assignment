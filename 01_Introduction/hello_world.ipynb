{
 "cells": [
  {
   "cell_type": "markdown",
   "metadata": {},
   "source": [
    "# INTRODUCTION\n",
    "## This illustrate Basic Matemathical operations in python"
   ]
  },
  {
   "cell_type": "code",
   "execution_count": 8,
   "metadata": {},
   "outputs": [
    {
     "name": "stdout",
     "output_type": "stream",
     "text": [
      "5\n",
      "1\n",
      "6\n",
      "1.5\n",
      "9\n",
      "1\n",
      "1\n",
      "<class 'int'>\n",
      "<class 'float'>\n",
      "<class 'complex'>\n",
      "<class 'str'>\n",
      "[1, 2, 3]\n",
      "<class 'dict'>\n",
      "<class 'set'>\n",
      "<class 'tuple'>\n",
      "<class 'bool'>\n",
      "<class 'bool'>\n"
     ]
    }
   ],
   "source": [
    "# Introduction\n",
    "\n",
    "print(3 + 2)        # addition(+)\n",
    "print(3 - 2)        # subtraction(-)\n",
    "print(3 * 2)        # multiplication(*)\n",
    "print(3 / 2)        # Division(/)\n",
    "print(3 ** 2)       # exponential(**)\n",
    "print(3 % 2)        # modulus(%)\n",
    "print(3 // 2)        # floor division operator(//)\n",
    "\n",
    "# checking data types\n",
    "print(type(10))             # int\n",
    "print(type(3.14))           #  float\n",
    "print(type(1 + 3j))         # complex\n",
    "print(type('Faisal'))       #string\n",
    "print([1, 2, 3] )           # list\n",
    "print(type({'name': 'faisal'})) # dictionary\n",
    "print(type({9.8, 3.4, 6.6}))    # set\n",
    "print(type((9.8, 3.4, 6.6)))    # tuple\n",
    "print(type(3 == 3))             # bool\n",
    "print(type(3>=3))               # bool\n",
    "\n",
    "\n",
    "\n",
    "\n"
   ]
  }
 ],
 "metadata": {
  "kernelspec": {
   "display_name": "base",
   "language": "python",
   "name": "python3"
  },
  "language_info": {
   "codemirror_mode": {
    "name": "ipython",
    "version": 3
   },
   "file_extension": ".py",
   "mimetype": "text/x-python",
   "name": "python",
   "nbconvert_exporter": "python",
   "pygments_lexer": "ipython3",
   "version": "3.12.7"
  }
 },
 "nbformat": 4,
 "nbformat_minor": 2
}
