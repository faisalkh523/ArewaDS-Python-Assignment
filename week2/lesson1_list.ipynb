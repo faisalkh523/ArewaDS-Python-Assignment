{
 "cells": [
  {
   "cell_type": "markdown",
   "metadata": {},
   "source": [
    "# working with list\n",
    "### objectives\n",
    "- how to loop through an entire _list_ and _tuple_\n",
    "- How to avoid indentation errors in Python\n",
    "- How to make numerical Lists\n",
    "- How to make Simple Statistics with a List of Numbers (e.g. _min_, _max_, and _sum_) with the help functions\n",
    "- How to create lists in an elegant manner using **List Comprehensions**\n",
    "- How to work with parts of a Lists -**SLICING**\n",
    "- How to copy lists, create immutable list (tuple)\n",
    "- How to Style Your Codes "
   ]
  },
  {
   "cell_type": "code",
   "execution_count": null,
   "metadata": {},
   "outputs": [
    {
     "name": "stdout",
     "output_type": "stream",
     "text": [
      "alice\n",
      "david\n",
      "carolina\n"
     ]
    }
   ],
   "source": [
    "# looping through an entire list\n",
    "\n",
    "magicians = ['alice', 'david', 'carolina']\n",
    "\n",
    "# to print out each item(magician) in the list\n",
    "print(magicians[0])\n",
    "print(magicians[1])\n",
    "print(magicians[2])"
   ]
  },
  {
   "cell_type": "markdown",
   "metadata": {},
   "source": [
    "however if the list grows to thousand or even million?\n",
    "loop allows for repeatedly iterate over the list and whatever task you want to do.\n",
    "\n",
    "begining using a for loop to print each name in a list of magicians"
   ]
  },
  {
   "cell_type": "code",
   "execution_count": 6,
   "metadata": {},
   "outputs": [
    {
     "name": "stdout",
     "output_type": "stream",
     "text": [
      "alice\n",
      "david\n",
      "carolina\n"
     ]
    }
   ],
   "source": [
    "magicians = ['alice', 'david', 'carolina']\n",
    "for magician in magicians:\n",
    "    print(magician)"
   ]
  },
  {
   "cell_type": "code",
   "execution_count": 10,
   "metadata": {},
   "outputs": [
    {
     "name": "stdout",
     "output_type": "stream",
     "text": [
      "meme\n",
      "dima\n",
      "keen\n"
     ]
    }
   ],
   "source": [
    "# my example\n",
    "cats = ['meme', 'dima', 'keen']\n",
    "for cat in cats:\n",
    "    print(cat)"
   ]
  },
  {
   "cell_type": "code",
   "execution_count": null,
   "metadata": {},
   "outputs": [
    {
     "name": "stdout",
     "output_type": "stream",
     "text": [
      "dream\n",
      "['dream', 'lucky', 'arisco']\n",
      "lucky\n",
      "['dream', 'lucky', 'arisco']\n",
      "arisco\n",
      "['dream', 'lucky', 'arisco']\n"
     ]
    }
   ],
   "source": [
    "# my example for Dogs\n",
    "dogs = ['dream', 'lucky', 'arisco']\n",
    "for dog in dogs:\n",
    "    print(dog)\n",
    "\n"
   ]
  },
  {
   "cell_type": "code",
   "execution_count": 13,
   "metadata": {},
   "outputs": [
    {
     "name": "stdout",
     "output_type": "stream",
     "text": [
      "bag\n",
      "pen\n",
      "ruler\n",
      "book\n"
     ]
    }
   ],
   "source": [
    "# my example for list of items\n",
    "school_items = ['bag', 'pen', 'ruler', 'book']\n",
    "for school_item in school_items:\n",
    "    print(school_item)"
   ]
  },
  {
   "cell_type": "markdown",
   "metadata": {},
   "source": [
    "Doing more work within a loop"
   ]
  },
  {
   "cell_type": "code",
   "execution_count": 14,
   "metadata": {},
   "outputs": [
    {
     "name": "stdout",
     "output_type": "stream",
     "text": [
      "Alice, that was a great trick!\n",
      "David, that was a great trick!\n",
      "Carolina, that was a great trick!\n"
     ]
    }
   ],
   "source": [
    "magicians = ['alice', 'david', 'carolina']\n",
    "for magician in magicians:\n",
    "    print(f\"{magician.title()}, that was a great trick!\")"
   ]
  },
  {
   "cell_type": "code",
   "execution_count": 19,
   "metadata": {},
   "outputs": [
    {
     "name": "stdout",
     "output_type": "stream",
     "text": [
      "Alice, that was a great trick!\n",
      "I can't wait to see your next trick, Alice\n",
      "\n",
      "David, that was a great trick!\n",
      "I can't wait to see your next trick, David\n",
      "\n",
      "Carolina, that was a great trick!\n",
      "I can't wait to see your next trick, Carolina\n",
      "\n"
     ]
    }
   ],
   "source": [
    "magicians = ['alice', 'david', 'carolina']\n",
    "for magician in magicians:\n",
    "    print(f\"{magician.title()}, that was a great trick!\")\n",
    "    print(f\"I can't wait to see your next trick, {magician.title()}\\n\")"
   ]
  },
  {
   "cell_type": "markdown",
   "metadata": {},
   "source": [
    "#### Doing something after a loop\n",
    "- Every indented line following the line for magician in magicians is considered inside the loop, and\n",
    "- Each indented line is executed once for each value in the list"
   ]
  },
  {
   "cell_type": "code",
   "execution_count": null,
   "metadata": {},
   "outputs": [],
   "source": [
    "magicians = ['alice', 'david', 'carolina']\n",
    "for magician for magicians:\n",
    "    print(f\"{magician.title()}, that was a great trick!\")\n",
    "    print"
   ]
  }
 ],
 "metadata": {
  "kernelspec": {
   "display_name": "base",
   "language": "python",
   "name": "python3"
  },
  "language_info": {
   "codemirror_mode": {
    "name": "ipython",
    "version": 3
   },
   "file_extension": ".py",
   "mimetype": "text/x-python",
   "name": "python",
   "nbconvert_exporter": "python",
   "pygments_lexer": "ipython3",
   "version": "3.12.7"
  }
 },
 "nbformat": 4,
 "nbformat_minor": 2
}
